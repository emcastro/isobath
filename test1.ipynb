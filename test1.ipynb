{
 "cells": [
  {
   "cell_type": "code",
   "execution_count": null,
   "metadata": {
    "tags": []
   },
   "outputs": [],
   "source": [
    "import warnings\n",
    "warnings.simplefilter('always', DeprecationWarning)\n",
    "\n",
    "from osgeo import gdal\n",
    "from osgeo import ogr\n",
    "from osgeo import osr\n",
    "import numpy as np\n",
    "# from osgeo import gdal_array\n",
    "# from osgeo import gdalnumeric\n",
    "\n",
    "import os\n",
    "import contextlib\n",
    "\n",
    "gdal.UseExceptions()\n",
    "\n",
    "def silent_remove(path):\n",
    "    with contextlib.suppress(FileNotFoundError):\n",
    "        os.remove(path)"
   ]
  },
  {
   "cell_type": "markdown",
   "metadata": {},
   "source": [
    "## Lecture de l'ENC"
   ]
  },
  {
   "cell_type": "code",
   "execution_count": null,
   "metadata": {},
   "outputs": [],
   "source": [
    "enc_ds = ogr.Open('data/ENC_ROOT/US4MA13M/US4MA13M.000')\n",
    "assert enc_ds.GetDriver().GetDescription() == 'S57' # S57\n",
    "m_covr_lyr = enc_ds.GetLayerByName('M_COVR')\n",
    "soundg_lyr = enc_ds.GetLayerByName('SOUNDG')\n",
    "\n",
    "covr_geo = [f.GetGeometryRef().Clone() for f in m_covr_lyr if f.GetField('CATCOV') == 1][0]\n",
    "covr_geo"
   ]
  },
  {
   "cell_type": "markdown",
   "metadata": {},
   "source": [
    "### Écriture de l'emprise dans `data/covr.geojson`"
   ]
  },
  {
   "cell_type": "code",
   "execution_count": null,
   "metadata": {},
   "outputs": [],
   "source": [
    "json_drv = ogr.GetDriverByName('GeoJSON')\n",
    "covr_path = 'data/covr.geojson'\n",
    "def create_covr():\n",
    "    silent_remove(covr_path)\n",
    "    covr_ds = json_drv.CreateDataSource(covr_path)\n",
    "    covr_lyr = covr_ds.CreateLayer('covr')\n",
    "    covr_f = ogr.Feature(covr_lyr.GetLayerDefn())\n",
    "    covr_f.SetGeometry(covr_geo)\n",
    "    covr_lyr.CreateFeature(covr_f)\n",
    "    covr_ds.Destroy()\n",
    "create_covr()\n",
    "del create_covr"
   ]
  },
  {
   "cell_type": "markdown",
   "metadata": {},
   "source": [
    "## Lecture de la Bathy"
   ]
  },
  {
   "cell_type": "code",
   "execution_count": null,
   "metadata": {},
   "outputs": [],
   "source": [
    "bathy_ds = gdal.Warp(\"data/bathy.tif\", 'data/navd_bath_30m',\n",
    "                        options = gdal.WarpOptions(\n",
    "                                            format='GTiff', \n",
    "                                            cutlineDSName=covr_path,\n",
    "                                            cutlineLayer='covr'))\n",
    "bathy_ds.FlushCache()"
   ]
  },
  {
   "cell_type": "code",
   "execution_count": null,
   "metadata": {},
   "outputs": [],
   "source": [
    "# bathy_ds = gdal.Open('data/navd_bath_30m')\n",
    "# assert bathy_ds.GetDriver().GetDescription() == 'AIG' # ArcInfo Binary Grid\n",
    "assert bathy_ds.RasterCount == 1\n",
    "bathy_band = bathy_ds.GetRasterBand(1)\n",
    "bathy_np = bathy_band.ReadAsArray()\n",
    "# bathy_np[bathy_np == bathy_band.GetNoDataValue()] = np.NaN"
   ]
  },
  {
   "cell_type": "code",
   "execution_count": null,
   "metadata": {},
   "outputs": [],
   "source": [
    "bathy_np.shape"
   ]
  },
  {
   "cell_type": "code",
   "execution_count": null,
   "metadata": {
    "tags": []
   },
   "outputs": [],
   "source": [
    "geotransform = bathy_ds.GetGeoTransform()\n",
    "print(\"Origin = ({}, {})\".format(geotransform[0], geotransform[3]))\n",
    "print(\"Pixel Size = ({}, {})\".format(geotransform[1], geotransform[5]))"
   ]
  },
  {
   "cell_type": "code",
   "execution_count": null,
   "metadata": {},
   "outputs": [],
   "source": []
  }
 ],
 "metadata": {
  "language_info": {
   "codemirror_mode": {
    "name": "ipython",
    "version": 3
   },
   "file_extension": ".py",
   "mimetype": "text/x-python",
   "name": "python",
   "nbconvert_exporter": "python",
   "pygments_lexer": "ipython3",
   "version": "3.8.2-final"
  },
  "orig_nbformat": 2,
  "kernelspec": {
   "name": "python38264bitpythonvenv40c5a9fda88f4243a7f0d5207304d97e",
   "display_name": "Python 3.8.2 64-bit ('python': venv)"
  }
 },
 "nbformat": 4,
 "nbformat_minor": 2
}