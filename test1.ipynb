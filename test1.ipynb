{
 "cells": [
  {
   "cell_type": "code",
   "execution_count": 1,
   "metadata": {
    "tags": []
   },
   "outputs": [],
   "source": [
    "import warnings\n",
    "warnings.simplefilter('always', DeprecationWarning)\n",
    "\n",
    "from osgeo import gdal\n",
    "from osgeo import ogr\n",
    "import numpy as np\n",
    "# from osgeo import gdal_array\n",
    "# from osgeo import gdalnumeric\n",
    "\n",
    "gdal.UseExceptions()"
   ]
  },
  {
   "cell_type": "code",
   "execution_count": 2,
   "metadata": {},
   "outputs": [],
   "source": [
    "enc = ogr.Open('data/ENC_ROOT/US4MA13M/US4MA13M.000')\n",
    "assert enc.GetDriver().GetDescription() == 'S57' # S57\n",
    "m_covr = enc.GetLayerByName('M_COVR')"
   ]
  },
  {
   "cell_type": "code",
   "execution_count": 3,
   "metadata": {},
   "outputs": [],
   "source": [
    "bathy = gdal.Open('data/navd_bath_30m')\n",
    "assert bathy.GetDriver().GetDescription() == 'AIG' # ArcInfo Binary Grid\n",
    "assert bathy.RasterCount == 1\n",
    "bathy_band = bathy.GetRasterBand(1)\n",
    "bathy_np = bathy_band.ReadAsArray()\n",
    "bathy_np[bathy_np == bathy_band.GetNoDataValue()] = np.NaN"
   ]
  },
  {
   "cell_type": "code",
   "execution_count": 4,
   "metadata": {},
   "outputs": [
    {
     "output_type": "execute_result",
     "data": {
      "text/plain": "(4885, 3551)"
     },
     "metadata": {},
     "execution_count": 4
    }
   ],
   "source": [
    "bathy_np.shape"
   ]
  },
  {
   "cell_type": "code",
   "execution_count": 5,
   "metadata": {},
   "outputs": [
    {
     "output_type": "execute_result",
     "data": {
      "text/plain": "8705556"
     },
     "metadata": {},
     "execution_count": 5
    }
   ],
   "source": [
    "np.count_nonzero(np.isnan(bathy_np))"
   ]
  },
  {
   "cell_type": "code",
   "execution_count": 6,
   "metadata": {
    "tags": []
   },
   "outputs": [
    {
     "output_type": "stream",
     "name": "stdout",
     "text": "(-71.0826389, -70.0329167, 42.0333333, 42.6336111)\n(-71.1146088, -69.9994574, 42.0009322, 42.6657174)\n"
    }
   ],
   "source": [
    "for f in m_covr:\n",
    "    if f.GetField('CATCOV') != 22:\n",
    "        g = f.GetGeometryRef()\n",
    "        print(g.GetEnvelope())\n",
    "        #print(g.ExportToWkt())"
   ]
  },
  {
   "cell_type": "code",
   "execution_count": 8,
   "metadata": {
    "tags": []
   },
   "outputs": [
    {
     "output_type": "stream",
     "name": "stdout",
     "text": "Origin = (330893.590626, 4789330.06)\nPixel Size = (30.0, -30.0)\n"
    }
   ],
   "source": [
    "geotransform = bathy.GetGeoTransform()\n",
    "print(\"Origin = ({}, {})\".format(geotransform[0], geotransform[3]))\n",
    "print(\"Pixel Size = ({}, {})\".format(geotransform[1], geotransform[5]))"
   ]
  },
  {
   "cell_type": "code",
   "execution_count": null,
   "metadata": {},
   "outputs": [],
   "source": [
    "line = bathy_band.ReadRaster(xoff=0, yoff=0, xsize=100, ysize=1)\n",
    "line"
   ]
  }
 ],
 "metadata": {
  "language_info": {
   "codemirror_mode": {
    "name": "ipython",
    "version": 3
   },
   "file_extension": ".py",
   "mimetype": "text/x-python",
   "name": "python",
   "nbconvert_exporter": "python",
   "pygments_lexer": "ipython3",
   "version": "3.8.2-final"
  },
  "orig_nbformat": 2,
  "kernelspec": {
   "name": "python38264bitpythonvenv40c5a9fda88f4243a7f0d5207304d97e",
   "display_name": "Python 3.8.2 64-bit ('python': venv)"
  }
 },
 "nbformat": 4,
 "nbformat_minor": 2
}