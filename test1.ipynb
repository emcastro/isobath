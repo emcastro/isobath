{
 "cells": [
  {
   "cell_type": "code",
   "execution_count": null,
   "metadata": {
    "tags": []
   },
   "outputs": [],
   "source": [
    "import warnings\n",
    "warnings.simplefilter('always', DeprecationWarning)\n",
    "\n",
    "from osgeo import gdal\n",
    "from osgeo import ogr\n",
    "import numpy as np\n",
    "# from osgeo import gdal_array\n",
    "# from osgeo import gdalnumeric\n",
    "\n",
    "import os\n",
    "import contextlib\n",
    "\n",
    "gdal.UseExceptions()\n",
    "\n",
    "def silent_remove(path):\n",
    "    with contextlib.suppress(FileNotFoundError):\n",
    "        os.remove(path)"
   ]
  },
  {
   "cell_type": "markdown",
   "metadata": {},
   "source": [
    "## Lecture de l'ENC"
   ]
  },
  {
   "cell_type": "code",
   "execution_count": null,
   "metadata": {},
   "outputs": [],
   "source": [
    "enc_ds = ogr.Open('data/ENC_ROOT/US4MA13M/US4MA13M.000')\n",
    "assert enc_ds.GetDriver().GetDescription() == 'S57' # S57\n",
    "m_covr_lyr = enc_ds.GetLayerByName('M_COVR')\n",
    "soundg_lyr = enc_ds.GetLayerByName('SOUNDG')\n",
    "\n",
    "covr_geo = [f.GetGeometryRef().Clone() for f in m_covr_lyr if f.GetField('CATCOV') == 1][0]\n",
    "covr_geo"
   ]
  },
  {
   "cell_type": "code",
   "execution_count": null,
   "metadata": {},
   "outputs": [],
   "source": [
    "json_drv = ogr.GetDriverByName('GeoJSON')\n",
    "silent_remove('data/covr.geojson')\n",
    "covr_ds = json_drv.CreateDataSource('data/covr.geojson')\n",
    "covr_lyr = covr_ds.CreateLayer('covr')\n",
    "featureDefn = covr_lyr.GetLayerDefn()\n",
    "featureDefn.AddFieldDefn(ogr.FieldDefn('NAME', ogr.OFTString))\n",
    "covr_f = ogr.Feature(featureDefn)"
   ]
  },
  {
   "cell_type": "code",
   "execution_count": null,
   "metadata": {},
   "outputs": [],
   "source": [
    "covr_f.SetFieldString(1,'Hello')"
   ]
  },
  {
   "cell_type": "code",
   "execution_count": null,
   "metadata": {
    "tags": []
   },
   "outputs": [],
   "source": [
    "#covr_f.SetGeometry(covr_geo)\n",
    "covr_f.SetGeometry(ogr.CreateGeometryFromWkt('POINT(2 3)'))"
   ]
  },
  {
   "cell_type": "code",
   "execution_count": null,
   "metadata": {},
   "outputs": [],
   "source": [
    "covr_lyr.CreateFeature(covr_f)"
   ]
  },
  {
   "cell_type": "code",
   "execution_count": null,
   "metadata": {},
   "outputs": [],
   "source": [
    "covr_ds.Destroy()"
   ]
  },
  {
   "cell_type": "markdown",
   "metadata": {},
   "source": [
    "## Lecture de la Bathy"
   ]
  },
  {
   "cell_type": "code",
   "execution_count": null,
   "metadata": {},
   "outputs": [],
   "source": [
    "bathy_ds = gdal.Open('data/navd_bath_30m')\n",
    "assert bathy_ds.GetDriver().GetDescription() == 'AIG' # ArcInfo Binary Grid\n",
    "assert bathy_ds.RasterCount == 1\n",
    "bathy_band = bathy_ds.GetRasterBand(1)\n",
    "bathy_np = bathy_band.ReadAsArray()\n",
    "# bathy_np[bathy_np == bathy_band.GetNoDataValue()] = np.NaN"
   ]
  },
  {
   "cell_type": "code",
   "execution_count": null,
   "metadata": {},
   "outputs": [],
   "source": [
    "bathy_np.shape"
   ]
  },
  {
   "cell_type": "code",
   "execution_count": null,
   "metadata": {
    "tags": []
   },
   "outputs": [],
   "source": [
    "for f in m_covr_lyr:\n",
    "    if f.GetField('CATCOV') != 22:\n",
    "        g = f.GetGeometryRef()\n",
    "        print(g.GetEnvelope())\n",
    "        #print(g.ExportToWkt())"
   ]
  },
  {
   "cell_type": "code",
   "execution_count": null,
   "metadata": {
    "tags": []
   },
   "outputs": [],
   "source": [
    "g.Clone()"
   ]
  },
  {
   "cell_type": "code",
   "execution_count": null,
   "metadata": {
    "tags": []
   },
   "outputs": [],
   "source": [
    "geotransform = bathy_ds.GetGeoTransform()\n",
    "print(\"Origin = ({}, {})\".format(geotransform[0], geotransform[3]))\n",
    "print(\"Pixel Size = ({}, {})\".format(geotransform[1], geotransform[5]))"
   ]
  },
  {
   "cell_type": "markdown",
   "metadata": {},
   "source": [
    "## Essais de GDAL Warp"
   ]
  },
  {
   "cell_type": "code",
   "execution_count": null,
   "metadata": {},
   "outputs": [],
   "source": [
    "gdal.Warp(\"test3.gpkg\", 'data/navd_bath_30m', options = gdal.WarpOptions(format='GPKG'))"
   ]
  },
  {
   "cell_type": "code",
   "execution_count": null,
   "metadata": {},
   "outputs": [],
   "source": [
    "out = gdal.Warp(\"test6.tif\", 'data/navd_bath_30m', options = gdal.WarpOptions(format='GTiff', cutlineDSName='data/ENC_ROOT/US4MA13M/US4MA13M.000', cutlineLayer='M_COVR',))"
   ]
  },
  {
   "cell_type": "code",
   "execution_count": null,
   "metadata": {},
   "outputs": [],
   "source": [
    "out.FlushCache()"
   ]
  },
  {
   "cell_type": "code",
   "execution_count": null,
   "metadata": {},
   "outputs": [],
   "source": []
  },
  {
   "cell_type": "code",
   "execution_count": null,
   "metadata": {},
   "outputs": [],
   "source": [
    "out = gdal.Warp(\"test5.tif\", 'data/navd_bath_30m')"
   ]
  },
  {
   "cell_type": "code",
   "execution_count": null,
   "metadata": {},
   "outputs": [],
   "source": [
    "out.FlushCache()"
   ]
  },
  {
   "cell_type": "code",
   "execution_count": null,
   "metadata": {},
   "outputs": [],
   "source": []
  },
  {
   "cell_type": "code",
   "execution_count": null,
   "metadata": {},
   "outputs": [],
   "source": []
  }
 ],
 "metadata": {
  "language_info": {
   "codemirror_mode": {
    "name": "ipython",
    "version": 3
   },
   "file_extension": ".py",
   "mimetype": "text/x-python",
   "name": "python",
   "nbconvert_exporter": "python",
   "pygments_lexer": "ipython3",
   "version": "3.8.2-final"
  },
  "orig_nbformat": 2,
  "kernelspec": {
   "name": "python38264bitpythonvenv40c5a9fda88f4243a7f0d5207304d97e",
   "display_name": "Python 3.8.2 64-bit ('python': venv)"
  }
 },
 "nbformat": 4,
 "nbformat_minor": 2
}