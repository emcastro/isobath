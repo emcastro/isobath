{
 "cells": [
  {
   "cell_type": "code",
   "execution_count": null,
   "metadata": {
    "tags": []
   },
   "outputs": [],
   "source": [
    "import warnings\n",
    "warnings.simplefilter('always', DeprecationWarning)\n",
    "\n",
    "from osgeo import gdal\n",
    "from osgeo import ogr\n",
    "from osgeo import osr\n",
    "import numpy as np\n",
    "import math\n",
    "# from osgeo import gdal_array\n",
    "# from osgeo import gdalnumeric\n",
    "\n",
    "import os\n",
    "import contextlib\n",
    "import logging\n",
    "\n",
    "gdal.UseExceptions()\n",
    "\n",
    "DEBUG=True\n",
    "logging.basicConfig(level=logging.DEBUG if DEBUG else logging.ERROR)\n",
    "\n",
    "def silent_remove(path):\n",
    "    with contextlib.suppress(FileNotFoundError):\n",
    "        os.remove(path)"
   ]
  },
  {
   "cell_type": "markdown",
   "metadata": {},
   "source": [
    "# Lecture de l'ENC"
   ]
  },
  {
   "cell_type": "code",
   "execution_count": null,
   "metadata": {},
   "outputs": [],
   "source": [
    "enc_ds = ogr.Open('data/ENC_ROOT/US4MA13M/US4MA13M.000')\n",
    "assert enc_ds.GetDriver().GetDescription() == 'S57' # S57\n",
    "m_covr_lyr = enc_ds.GetLayerByName('M_COVR')\n",
    "soundg_lyr = enc_ds.GetLayerByName('SOUNDG')\n",
    "depare_lyr = enc_ds.GetLayerByName('DEPARE')\n",
    "\n",
    "covr_geo = next(f.GetGeometryRef().Clone() for f in m_covr_lyr if f.GetField('CATCOV') == 1)\n",
    "covr_geo"
   ]
  },
  {
   "cell_type": "markdown",
   "metadata": {},
   "source": [
    "## Écriture de l'emprise dans `data/covr.geojson`"
   ]
  },
  {
   "cell_type": "code",
   "execution_count": null,
   "metadata": {},
   "outputs": [],
   "source": [
    "json_drv = ogr.GetDriverByName('GeoJSON')\n",
    "covr_path = 'data/covr.geojson'\n",
    "def create_covr():\n",
    "    silent_remove(covr_path)\n",
    "    covr_ds = json_drv.CreateDataSource(covr_path)\n",
    "    covr_lyr = covr_ds.CreateLayer('covr')\n",
    "    covr_f = ogr.Feature(covr_lyr.GetLayerDefn())\n",
    "    covr_f.SetGeometry(covr_geo)\n",
    "    covr_lyr.CreateFeature(covr_f)\n",
    "    covr_ds.Release()\n",
    "create_covr()\n",
    "del create_covr"
   ]
  },
  {
   "cell_type": "markdown",
   "metadata": {},
   "source": [
    "# Lecture de la Bathy"
   ]
  },
  {
   "cell_type": "markdown",
   "metadata": {},
   "source": [
    "## Réduction à la zone de l'ENC"
   ]
  },
  {
   "cell_type": "code",
   "execution_count": null,
   "metadata": {},
   "outputs": [],
   "source": [
    "bathy_ds = gdal.Warp(\"data/bathy.tif\", 'data/navd_bath_30m',\n",
    "                        options = gdal.WarpOptions(\n",
    "                                            format='GTiff', \n",
    "                                            cutlineDSName=covr_path,\n",
    "                                            cutlineLayer='covr',\n",
    "                                            cropToCutline=True,\n",
    "                                            creationOptions=['COMPRESS=LZW'],\n",
    "                                            dstNodata=np.nan))\n",
    "bathy_ds.FlushCache()"
   ]
  },
  {
   "cell_type": "code",
   "execution_count": null,
   "metadata": {},
   "outputs": [],
   "source": [
    "assert bathy_ds.RasterCount == 1\n",
    "bathy_band = bathy_ds.GetRasterBand(1)\n",
    "bathy_np = bathy_band.ReadAsArray()\n",
    "bathy_band.GetNoDataValue()"
   ]
  },
  {
   "cell_type": "code",
   "execution_count": null,
   "metadata": {},
   "outputs": [],
   "source": [
    "bathy_np.shape # Northing, Easting"
   ]
  },
  {
   "cell_type": "markdown",
   "metadata": {},
   "source": [
    "# Essais sur les transformations géographiques"
   ]
  },
  {
   "cell_type": "code",
   "execution_count": null,
   "metadata": {
    "tags": []
   },
   "outputs": [],
   "source": [
    "# b = gdal.Open('data/navd_bath_30m')\n",
    "# b = gdal.Open('data/bathy.tif')\n",
    "b = bathy_ds\n",
    "geotransform = b.GetGeoTransform()\n",
    "print(\"Origin = ({}, {})\".format(geotransform[0], geotransform[3]))\n",
    "print(\"Pixel Size = ({}, {})\".format(geotransform[1], geotransform[5]))\n",
    "print(\"???        = ({}, {})\".format(geotransform[2], geotransform[4]))"
   ]
  },
  {
   "cell_type": "code",
   "execution_count": null,
   "metadata": {
    "tags": []
   },
   "outputs": [],
   "source": [
    "# b = gdal.Open('data/navd_bath_30m')\n",
    "b = gdal.Open('data/bathy.tif')\n",
    "# b = bathy_ds\n",
    "geotransform = b.GetGeoTransform()\n",
    "print(\"Origin = ({}, {})\".format(geotransform[0], geotransform[3]))\n",
    "print(\"Pixel Size = ({}, {})\".format(geotransform[1], geotransform[5]))\n",
    "print(\"???        = ({}, {})\".format(geotransform[2], geotransform[4]))"
   ]
  },
  {
   "cell_type": "code",
   "execution_count": null,
   "metadata": {},
   "outputs": [],
   "source": [
    "geotransform"
   ]
  },
  {
   "cell_type": "markdown",
   "metadata": {},
   "source": [
    "# PixelAccessor\n",
    "PixelAccessor et tests"
   ]
  },
  {
   "cell_type": "code",
   "execution_count": null,
   "metadata": {},
   "outputs": [],
   "source": [
    "class PixelAccessor:\n",
    "\n",
    "    def __init__(self, geotransformSource, spatialRef = None):\n",
    "        \n",
    "        # Dataset\n",
    "        if isinstance(geotransformSource, gdal.Dataset):\n",
    "            geotransform  = geotransformSource.GetGeoTransform()\n",
    "            # Check if same project\n",
    "            if (spatialRef is not None\n",
    "                and spatialRef.ExportToWkt() == geotransformSource.GetSpatialRef().ExportToWkt()):\n",
    "                spatialRef == None # same: do nothing during geotransformation\n",
    "            else:\n",
    "                geoIn = osr.CreateCoordinateTransformation(spatialRef, geotransformSource.GetSpatialRef())\n",
    "                geoOut = osr.CreateCoordinateTransformation(geotransformSource.GetSpatialRef(), spatialRef)\n",
    "\n",
    "        # Band: get original Dataset\n",
    "        elif isinstance(geotransformSource, gdal.Band):\n",
    "            return self.__init__(geotransformSource.GetDataset(), spatialRef)\n",
    "\n",
    "        # Simple tuple\n",
    "        elif isinstance(geotransformSource, tuple):\n",
    "            geotransform = geotransformSource\n",
    "            if spatialRef is None:\n",
    "                raise ValueError('spatialRef must be None when using geotransform tuple')\n",
    "        else:\n",
    "            raise TypeError('must be gdal.DataSet, gdal.Band or tuple')\n",
    "\n",
    "        # Access to local variable is faster than acces throw self\n",
    "        assert geotransform[2] == 0\n",
    "        assert geotransform[4] == 0\n",
    "        def pixelToGeo(L, P): # small matrix, faster than numpy\n",
    "            Xp = geotransform[0] + (P+.5)*geotransform[1] \n",
    "            Yp = geotransform[3] + (L+.5)*geotransform[5]\n",
    "            if spatialRef:\n",
    "                return geoOut.TransformPoint(Xp, Yp)\n",
    "            else:\n",
    "                return Xp, Yp\n",
    "\n",
    "        def geoToPixel(Xp, Yp):\n",
    "            if spatialRef:\n",
    "                Xp, Yp, Zp = geoIn.TransformPoint(Xp, Yp)\n",
    "            P = math.floor((Xp - geotransform[0]) / geotransform[1])\n",
    "            L = math.floor((Yp - geotransform[3]) / geotransform[5])\n",
    "            return L, P\n",
    "\n",
    "        # Publish method Javascript style\n",
    "        self.pixelToGeo = pixelToGeo\n",
    "        self.geoToPixel = geoToPixel\n"
   ]
  },
  {
   "cell_type": "code",
   "execution_count": null,
   "metadata": {},
   "outputs": [],
   "source": [
    "t = PixelAccessor(bathy_band)"
   ]
  },
  {
   "cell_type": "code",
   "execution_count": null,
   "metadata": {},
   "outputs": [],
   "source": [
    "t.pixelToGeo(0,0), t.pixelToGeo(2000,0), t.pixelToGeo(0, 2000)"
   ]
  },
  {
   "cell_type": "code",
   "execution_count": null,
   "metadata": {},
   "outputs": [],
   "source": [
    "t.geoToPixel(328133.590626, 4722220.06), t.geoToPixel(388133.590626, 4722220.06), t.geoToPixel(328133.590626, 4662220.06)"
   ]
  },
  {
   "cell_type": "code",
   "execution_count": null,
   "metadata": {},
   "outputs": [],
   "source": [
    "bathy_np[t.geoToPixel(415283.0,4717460.3)] # -125,9262"
   ]
  },
  {
   "cell_type": "code",
   "execution_count": null,
   "metadata": {},
   "outputs": [],
   "source": [
    "tw84 = PixelAccessor(bathy_band, depare_lyr.GetSpatialRef())"
   ]
  },
  {
   "cell_type": "code",
   "execution_count": null,
   "metadata": {},
   "outputs": [],
   "source": [
    "tw84.pixelToGeo(0,0), tw84.pixelToGeo(2000,0), tw84.pixelToGeo(0, 2000)"
   ]
  },
  {
   "cell_type": "code",
   "execution_count": null,
   "metadata": {},
   "outputs": [],
   "source": [
    "tw84.geoToPixel(-71.09592403816357, 42.63312848595494), tw84.geoToPixel(-71.07804409258947, 42.09312188970164), tw84.geoToPixel(-70.36441180339453, 42.64417944703203)"
   ]
  },
  {
   "cell_type": "code",
   "execution_count": null,
   "metadata": {},
   "outputs": [],
   "source": [
    "bathy_np[tw84.geoToPixel(-70.551710,42.36582775)] # -88.0935"
   ]
  },
  {
   "cell_type": "markdown",
   "metadata": {},
   "source": [
    "# Parcours d'isobathe"
   ]
  },
  {
   "cell_type": "code",
   "execution_count": null,
   "metadata": {},
   "outputs": [],
   "source": [
    "for isobath in depare_lyr:\n",
    "    print(isobath)"
   ]
  },
  {
   "cell_type": "code",
   "execution_count": null,
   "metadata": {},
   "outputs": [],
   "source": []
  }
 ],
 "metadata": {
  "kernelspec": {
   "display_name": "Python 3.8.2 64-bit ('python': venv)",
   "language": "python",
   "name": "python38264bitpythonvenv40c5a9fda88f4243a7f0d5207304d97e"
  },
  "language_info": {
   "codemirror_mode": {
    "name": "ipython",
    "version": 3
   },
   "file_extension": ".py",
   "mimetype": "text/x-python",
   "name": "python",
   "nbconvert_exporter": "python",
   "pygments_lexer": "ipython3",
   "version": "3.8.2"
  }
 },
 "nbformat": 4,
 "nbformat_minor": 4
}