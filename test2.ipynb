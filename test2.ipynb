{
 "cells": [
  {
   "cell_type": "code",
   "execution_count": null,
   "metadata": {
    "tags": []
   },
   "outputs": [],
   "source": [
    "import warnings\n",
    "warnings.simplefilter('always', DeprecationWarning)\n",
    "\n",
    "from osgeo import gdal\n",
    "from osgeo import ogr\n",
    "from osgeo import osr\n",
    "\n",
    "import fiona\n",
    "import rasterio\n",
    "\n",
    "import numpy as np\n",
    "import math\n",
    "# from osgeo import gdal_array\n",
    "# from osgeo import gdalnumeric\n",
    "\n",
    "import os\n",
    "import contextlib\n",
    "import logging\n",
    "\n",
    "gdal.UseExceptions()\n",
    "\n",
    "def silent_remove(path):\n",
    "    with contextlib.suppress(FileNotFoundError):\n",
    "        os.remove(path)\n",
    "        \n",
    "DEBUG=False\n",
    "logging.basicConfig(level=logging.DEBUG if DEBUG else logging.ERROR)\n",
    "logging.getLogger('fiona.ogrext').disabled=True # Too noisy\n",
    "fiona.Env(CPL_DEBUG=DEBUG).__enter__()\n",
    "rasterio.Env(CPL_DEBUG=DEBUG).__enter__()"
   ]
  },
  {
   "cell_type": "markdown",
   "metadata": {},
   "source": [
    "# Lecture de l'ENC"
   ]
  },
  {
   "cell_type": "code",
   "execution_count": null,
   "metadata": {},
   "outputs": [],
   "source": [
    "enc_path = 'data/ENC_ROOT/US4MA13M/US4MA13M.000'\n",
    "m_covr_lyr = fiona.open(enc_path, layer='M_COVR', LIST_AS_STRING=True)\n",
    "soundg_lyr = fiona.open(enc_path, layer='SOUNDG', LIST_AS_STRING=True, SPLIT_MULTIPOINT=True, ADD_SOUNDG_DEPTH=True)\n",
    "depare_lyr = fiona.open(enc_path, layer='DEPARE', LIST_AS_STRING=True)\n",
    "\n",
    "covr_geo = next(f for f in m_covr_lyr if f['properties']['CATCOV'] == 1)['geometry']\n",
    "repr(covr_geo)[:200]"
   ]
  },
  {
   "cell_type": "code",
   "execution_count": null,
   "metadata": {},
   "outputs": [],
   "source": [
    "len(list(soundg_lyr)) # 3415 - All soundings are independent features"
   ]
  },
  {
   "cell_type": "markdown",
   "metadata": {},
   "source": [
    "## Écriture de l'emprise dans `data/covr.geojson`"
   ]
  },
  {
   "cell_type": "code",
   "execution_count": null,
   "metadata": {},
   "outputs": [],
   "source": [
    "next(enumerate(soundg_lyr)) # Sample data"
   ]
  },
  {
   "cell_type": "code",
   "execution_count": null,
   "metadata": {},
   "outputs": [],
   "source": [
    "covr_path = 'data/covr.geojson'\n",
    "with fiona.open(covr_path, mode='w', driver='GeoJSON', schema={'properties':{}, 'geometry': 'Polygon'}) as cover_lyr:\n",
    "    cover_lyr.write({'properties':{}, 'geometry': covr_geo})"
   ]
  },
  {
   "cell_type": "markdown",
   "metadata": {},
   "source": [
    "# Lecture de la Bathy"
   ]
  },
  {
   "cell_type": "markdown",
   "metadata": {},
   "source": [
    "## Réduction à la zone de l'ENC"
   ]
  },
  {
   "cell_type": "code",
   "execution_count": null,
   "metadata": {},
   "outputs": [],
   "source": [
    "bathy_ds = gdal.Warp('data/bathy.tif', 'data/navd_bath_30m',\n",
    "                        options = gdal.WarpOptions(\n",
    "                                            format='GTiff', \n",
    "                                            cutlineDSName=covr_path,\n",
    "                                            cutlineLayer='covr',\n",
    "                                            cropToCutline=True,\n",
    "                                            creationOptions=['COMPRESS=LZW'],\n",
    "                                            dstNodata=np.nan))\n",
    "del bathy_ds # ensure release and flush"
   ]
  },
  {
   "cell_type": "code",
   "execution_count": null,
   "metadata": {},
   "outputs": [],
   "source": [
    "bathy_ds = rasterio.open('data/bathy.tif')"
   ]
  },
  {
   "cell_type": "code",
   "execution_count": null,
   "metadata": {},
   "outputs": [],
   "source": [
    "assert len(bathy_ds.indexes) == 1\n",
    "bathy_np = bathy_ds.read()[0]\n",
    "bathy_ds.nodata"
   ]
  },
  {
   "cell_type": "code",
   "execution_count": null,
   "metadata": {},
   "outputs": [],
   "source": [
    "bathy_np.shape # Northing, Easting"
   ]
  },
  {
   "cell_type": "markdown",
   "metadata": {},
   "source": [
    "# PixelAccessor\n",
    "PixelAccessor et tests"
   ]
  },
  {
   "cell_type": "code",
   "execution_count": null,
   "metadata": {},
   "outputs": [],
   "source": [
    "bathy_ds.xy(0,0), bathy_ds.xy(2000,0), bathy_ds.xy(0, 2000)"
   ]
  },
  {
   "cell_type": "code",
   "execution_count": null,
   "metadata": {},
   "outputs": [],
   "source": [
    "bathy_ds.index(328133.590626, 4722220.06), bathy_ds.index(388133.590626, 4722220.06), bathy_ds.index(328133.590626, 4662220.06)"
   ]
  },
  {
   "cell_type": "code",
   "execution_count": null,
   "metadata": {},
   "outputs": [],
   "source": [
    "bathy_np[bathy_ds.index(415283.0,4717460.3)] # -125,9262"
   ]
  },
  {
   "cell_type": "code",
   "execution_count": null,
   "metadata": {},
   "outputs": [],
   "source": [
    "class PixelAccessor: # Far Faster than pyproj\n",
    "    def __init__(self, vector_lyr, raster_ds):\n",
    "        geotransform = raster_ds.get_transform()\n",
    "        assert geotransform[2] == 0\n",
    "        assert geotransform[4] == 0\n",
    "\n",
    "        c1 = osr.SpatialReference()\n",
    "        c2 = osr.SpatialReference()\n",
    "        osr.SpatialReference.ImportFromWkt(c1, vector_lyr.crs_wkt)\n",
    "        osr.SpatialReference.ImportFromWkt(c2, raster_ds.crs.to_wkt())\n",
    "        t12 = osr.CreateCoordinateTransformation(c1,c2)\n",
    "\n",
    "        def latLonToPixel(lat, lon):\n",
    "            Xp, Yp, Zp = t12.TransformPoint(lat, lon)\n",
    "            P = math.floor((Xp - geotransform[0]) / geotransform[1])\n",
    "            L = math.floor((Yp - geotransform[3]) / geotransform[5])\n",
    "            return L, P\n",
    "        \n",
    "        def toPixel(geoPoint):\n",
    "            return latLonToPixel(geoPoint[1], geoPoint[0])\n",
    "\n",
    "        # Publish method Javascript style\n",
    "        self.latLonToPixel = latLonToPixel\n",
    "        self.toPixel = toPixel\n"
   ]
  },
  {
   "cell_type": "code",
   "execution_count": null,
   "metadata": {},
   "outputs": [],
   "source": [
    "tw84 = PixelAccessor(depare_lyr, bathy_ds)"
   ]
  },
  {
   "cell_type": "code",
   "execution_count": null,
   "metadata": {},
   "outputs": [],
   "source": [
    "# tw84.pixelToGeo(0,0), tw84.pixelToGeo(2000,0), tw84.pixelToGeo(0, 2000)"
   ]
  },
  {
   "cell_type": "code",
   "execution_count": null,
   "metadata": {},
   "outputs": [],
   "source": [
    "tw84.toPixel((-71.09592403816357, 42.63312848595494)), tw84.toPixel((-71.07804409258947, 42.09312188970164)), tw84.toPixel((-70.36441180339453, 42.64417944703203))"
   ]
  },
  {
   "cell_type": "code",
   "execution_count": null,
   "metadata": {},
   "outputs": [],
   "source": [
    "bathy_np[tw84.toPixel((-70.551710, 42.36582775))] # -88.0935"
   ]
  },
  {
   "cell_type": "markdown",
   "metadata": {},
   "source": [
    "# Parcours d'isobathe"
   ]
  },
  {
   "cell_type": "code",
   "execution_count": null,
   "metadata": {},
   "outputs": [],
   "source": [
    "for isobath in depare_lyr:\n",
    "    print(isobath)"
   ]
  },
  {
   "cell_type": "code",
   "execution_count": null,
   "metadata": {},
   "outputs": [],
   "source": []
  }
 ],
 "metadata": {
  "kernelspec": {
   "display_name": "Python 3.8.2 64-bit ('python': venv)",
   "language": "python",
   "name": "python38264bitpythonvenv40c5a9fda88f4243a7f0d5207304d97e"
  },
  "language_info": {
   "codemirror_mode": {
    "name": "ipython",
    "version": 3
   },
   "file_extension": ".py",
   "mimetype": "text/x-python",
   "name": "python",
   "nbconvert_exporter": "python",
   "pygments_lexer": "ipython3",
   "version": "3.8.2"
  }
 },
 "nbformat": 4,
 "nbformat_minor": 4
}
