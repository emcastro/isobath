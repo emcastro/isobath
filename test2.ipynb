{
 "cells": [
  {
   "cell_type": "code",
   "execution_count": null,
   "metadata": {
    "tags": []
   },
   "outputs": [],
   "source": [
    "import warnings\n",
    "warnings.simplefilter('always', DeprecationWarning)\n",
    "\n",
    "from osgeo import gdal\n",
    "from osgeo import ogr\n",
    "from osgeo import osr\n",
    "\n",
    "import fiona\n",
    "import rasterio\n",
    "import geopandas\n",
    "\n",
    "from matplotlib import pyplot as plt\n",
    "\n",
    "import shapely\n",
    "import shapely.wkt\n",
    "import shapely.geometry\n",
    "\n",
    "import numpy as np\n",
    "import math\n",
    "# from osgeo import gdal_array\n",
    "# from osgeo import gdalnumeric\n",
    "\n",
    "import os\n",
    "import contextlib\n",
    "import logging\n",
    "\n",
    "from prof import Prof\n",
    "from IPython.core.interactiveshell import InteractiveShell\n",
    "\n",
    "gdal.UseExceptions()\n",
    "\n",
    "def silent_remove(path):\n",
    "    with contextlib.suppress(FileNotFoundError):\n",
    "        os.remove(path)\n",
    "        \n",
    "DEBUG=False\n",
    "logging.basicConfig(level=logging.DEBUG if DEBUG else logging.ERROR)\n",
    "logging.getLogger('fiona.ogrext').disabled=True # Too noisy\n",
    "fiona.Env(CPL_DEBUG=DEBUG).__enter__()\n",
    "rasterio.Env(CPL_DEBUG=DEBUG).__enter__()"
   ]
  },
  {
   "cell_type": "markdown",
   "metadata": {},
   "source": [
    "# Lecture de l'ENC"
   ]
  },
  {
   "cell_type": "code",
   "execution_count": null,
   "metadata": {},
   "outputs": [],
   "source": [
    "enc_path = 'data/ENC_ROOT/US4MA13M/US4MA13M.000'\n",
    "m_covr_lyr = fiona.open(enc_path, layer='M_COVR', LIST_AS_STRING=True)\n",
    "\n",
    "covr_geo = next(f for f in m_covr_lyr if f['properties']['CATCOV'] == 1)['geometry']\n",
    "repr(covr_geo)[:200]"
   ]
  },
  {
   "cell_type": "markdown",
   "metadata": {},
   "source": [
    "## Écriture de l'emprise dans `data/covr.geojson`"
   ]
  },
  {
   "cell_type": "code",
   "execution_count": null,
   "metadata": {
    "tags": []
   },
   "outputs": [],
   "source": [
    "covr_path = 'data/covr.geojson'\n",
    "with fiona.open(covr_path, mode='w', driver='GeoJSON', schema={'properties':{}, 'geometry': 'Polygon'}) as cover_lyr:\n",
    "    cover_lyr.write({'properties':{}, 'geometry': covr_geo})"
   ]
  },
  {
   "cell_type": "markdown",
   "metadata": {},
   "source": [
    "# Lecture de la Bathy"
   ]
  },
  {
   "cell_type": "markdown",
   "metadata": {},
   "source": [
    "## Réduction à la zone de l'ENC"
   ]
  },
  {
   "cell_type": "code",
   "execution_count": null,
   "metadata": {},
   "outputs": [],
   "source": [
    "bathy_ds = gdal.Warp('data/bathy.tif', 'data/navd_bath_30m',\n",
    "                        options = gdal.WarpOptions(\n",
    "                                            format='GTiff', \n",
    "                                            cutlineDSName=covr_path,\n",
    "                                            cutlineLayer='covr',\n",
    "                                            cropToCutline=True,\n",
    "                                            creationOptions=['COMPRESS=LZW'],\n",
    "                                            dstNodata=np.nan))\n",
    "del bathy_ds # ensure release and flush\n",
    "# On peut faire la même chose avec rasterio.mask.mask"
   ]
  },
  {
   "cell_type": "code",
   "execution_count": null,
   "metadata": {},
   "outputs": [],
   "source": [
    "bathy_ds = rasterio.open('data/bathy.tif')"
   ]
  },
  {
   "cell_type": "code",
   "execution_count": null,
   "metadata": {},
   "outputs": [],
   "source": [
    "assert len(bathy_ds.indexes) == 1\n",
    "bathy_np = bathy_ds.read()[0]\n",
    "bathy_ds.nodata"
   ]
  },
  {
   "cell_type": "code",
   "execution_count": null,
   "metadata": {},
   "outputs": [],
   "source": [
    "bathy_np.shape # Northing, Easting"
   ]
  },
  {
   "cell_type": "markdown",
   "metadata": {},
   "source": [
    "# Lecture de l'ENC (suite)"
   ]
  },
  {
   "cell_type": "code",
   "execution_count": null,
   "metadata": {
    "tags": []
   },
   "outputs": [],
   "source": [
    "soundg_lyr = geopandas.read_file(enc_path, layer='SOUNDG', LIST_AS_STRING=True, SPLIT_MULTIPOINT=True, ADD_SOUNDG_DEPTH=True).to_crs(bathy_ds.crs)\n",
    "depare_lyr = geopandas.read_file(enc_path, layer='DEPARE', LIST_AS_STRING=True).to_crs(bathy_ds.crs)"
   ]
  },
  {
   "cell_type": "code",
   "execution_count": null,
   "metadata": {},
   "outputs": [],
   "source": [
    "soundg_lyr"
   ]
  },
  {
   "cell_type": "markdown",
   "metadata": {},
   "source": [
    "# Accès aux pixels"
   ]
  },
  {
   "cell_type": "code",
   "execution_count": null,
   "metadata": {},
   "outputs": [],
   "source": [
    "bathy_ds.xy(0,0), bathy_ds.xy(2000,0), bathy_ds.xy(0, 2000)"
   ]
  },
  {
   "cell_type": "code",
   "execution_count": null,
   "metadata": {},
   "outputs": [],
   "source": [
    "bathy_ds.index(328133.590626, 4722220.06), bathy_ds.index(388133.590626, 4722220.06), bathy_ds.index(328133.590626, 4662220.06)"
   ]
  },
  {
   "cell_type": "code",
   "execution_count": null,
   "metadata": {},
   "outputs": [],
   "source": [
    "bathy_np[bathy_ds.index(415283.0,4717460.3)] # -125,9262"
   ]
  },
  {
   "cell_type": "markdown",
   "metadata": {},
   "source": [
    "# Replissage des trous"
   ]
  },
  {
   "cell_type": "code",
   "execution_count": null,
   "metadata": {},
   "outputs": [],
   "source": [
    "import rasterio.fill"
   ]
  },
  {
   "cell_type": "code",
   "execution_count": null,
   "metadata": {},
   "outputs": [],
   "source": [
    "# bathy_ds = rasterio.open('data/bathy.tif')"
   ]
  },
  {
   "cell_type": "code",
   "execution_count": null,
   "metadata": {},
   "outputs": [],
   "source": [
    "rasterio.fill.fillnodata(bathy_np, ~np.isnan(bathy_np), smoothing_iterations=100)"
   ]
  },
  {
   "cell_type": "code",
   "execution_count": null,
   "metadata": {},
   "outputs": [],
   "source": [
    "np.nan_to_num(bathy_np, copy=False, nan=10)"
   ]
  },
  {
   "cell_type": "code",
   "execution_count": null,
   "metadata": {},
   "outputs": [],
   "source": [
    "plt.figure(figsize = (20,20))\n",
    "plt.imshow(bathy_np)"
   ]
  },
  {
   "cell_type": "markdown",
   "metadata": {},
   "source": [
    "# Filtration de la Bathy en fonction des profondeurs utilisées dans DEPARE"
   ]
  },
  {
   "cell_type": "code",
   "execution_count": null,
   "metadata": {
    "tags": []
   },
   "outputs": [],
   "source": [
    "depare_lyr"
   ]
  },
  {
   "cell_type": "code",
   "execution_count": null,
   "metadata": {},
   "outputs": [],
   "source": [
    "\" \".join(list(depare_lyr.columns))"
   ]
  },
  {
   "cell_type": "code",
   "execution_count": null,
   "metadata": {},
   "outputs": [],
   "source": [
    "depths1=depare_lyr[['DRVAL1', 'DRVAL2']].drop_duplicates().sort_values('DRVAL1')\n",
    "depths=depths1[(depths1.DRVAL1 != 0) | (depths1.DRVAL2 != 36.5)]\n",
    "depths"
   ]
  },
  {
   "cell_type": "code",
   "execution_count": null,
   "metadata": {
    "tags": []
   },
   "outputs": [],
   "source": [
    "def write_geotiff(path, data):\n",
    "    with rasterio.open(\n",
    "        path,\n",
    "        'w',\n",
    "        driver='GTiff',\n",
    "        height=data.shape[0],\n",
    "        width=data.shape[1],\n",
    "        count=1,\n",
    "        dtype=data.dtype,\n",
    "        crs=bathy_ds.crs,\n",
    "        transform=bathy_ds.transform,\n",
    "    ) as dst:\n",
    "        dst.write(data, 1)\n",
    "\n",
    "def make_depth_bathy(val1, val2, safety):\n",
    "    lbathy_np = bathy_np.copy()\n",
    "#     lbathy_np[np.isnan(lbathy_np)] = 1\n",
    "    lbathy_np[(lbathy_np >= -val1) | (lbathy_np <= -val2)] = np.nan\n",
    "#     lbathy_np[(lbathy_np <= -val2+safety)] = np.nan\n",
    "    plt.figure(figsize = (20,20))\n",
    "    plt.imshow(lbathy_np)\n",
    "    write_geotiff(f'dep{val2}.tiff', lbathy_np)\n",
    "    "
   ]
  },
  {
   "cell_type": "code",
   "execution_count": null,
   "metadata": {},
   "outputs": [],
   "source": [
    "foot=25.4*12/1000\n",
    "foot"
   ]
  },
  {
   "cell_type": "code",
   "execution_count": null,
   "metadata": {},
   "outputs": [],
   "source": [
    "make_depth_bathy(-2.9, 0.0, safety=1*foot)"
   ]
  },
  {
   "cell_type": "code",
   "execution_count": null,
   "metadata": {},
   "outputs": [],
   "source": [
    "make_depth_bathy(0, 5.4, safety=1*foot)"
   ]
  },
  {
   "cell_type": "code",
   "execution_count": null,
   "metadata": {},
   "outputs": [],
   "source": [
    "make_depth_bathy(5.4, 9.1, safety=1*foot)"
   ]
  },
  {
   "cell_type": "code",
   "execution_count": null,
   "metadata": {},
   "outputs": [],
   "source": [
    "make_depth_bathy(9.1, 18.2, safety=2*foot)"
   ]
  },
  {
   "cell_type": "code",
   "execution_count": null,
   "metadata": {},
   "outputs": [],
   "source": [
    "make_depth_bathy(18.2, 36.5, safety=2*foot)"
   ]
  },
  {
   "cell_type": "code",
   "execution_count": null,
   "metadata": {},
   "outputs": [],
   "source": [
    "make_depth_bathy(36.5, 182.8, safety=3*foot)"
   ]
  },
  {
   "cell_type": "code",
   "execution_count": null,
   "metadata": {},
   "outputs": [],
   "source": []
  },
  {
   "cell_type": "code",
   "execution_count": null,
   "metadata": {},
   "outputs": [],
   "source": []
  },
  {
   "cell_type": "code",
   "execution_count": null,
   "metadata": {},
   "outputs": [],
   "source": []
  },
  {
   "cell_type": "code",
   "execution_count": null,
   "metadata": {},
   "outputs": [],
   "source": []
  },
  {
   "cell_type": "code",
   "execution_count": null,
   "metadata": {},
   "outputs": [],
   "source": []
  },
  {
   "cell_type": "code",
   "execution_count": null,
   "metadata": {},
   "outputs": [],
   "source": []
  },
  {
   "cell_type": "code",
   "execution_count": null,
   "metadata": {},
   "outputs": [],
   "source": []
  },
  {
   "cell_type": "code",
   "execution_count": null,
   "metadata": {},
   "outputs": [],
   "source": []
  },
  {
   "cell_type": "code",
   "execution_count": null,
   "metadata": {},
   "outputs": [],
   "source": []
  },
  {
   "cell_type": "code",
   "execution_count": null,
   "metadata": {},
   "outputs": [],
   "source": []
  }
 ],
 "metadata": {
  "kernelspec": {
   "display_name": "Python 3.8.2 64-bit ('python': venv)",
   "language": "python",
   "name": "python38264bitpythonvenv40c5a9fda88f4243a7f0d5207304d97e"
  },
  "language_info": {
   "codemirror_mode": {
    "name": "ipython",
    "version": 3
   },
   "file_extension": ".py",
   "mimetype": "text/x-python",
   "name": "python",
   "nbconvert_exporter": "python",
   "pygments_lexer": "ipython3",
   "version": "3.8.2"
  }
 },
 "nbformat": 4,
 "nbformat_minor": 4
}
