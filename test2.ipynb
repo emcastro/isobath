{
 "cells": [
  {
   "cell_type": "code",
   "execution_count": null,
   "metadata": {
    "tags": []
   },
   "outputs": [],
   "source": [
    "import warnings\n",
    "warnings.simplefilter('always', DeprecationWarning)\n",
    "\n",
    "from osgeo import gdal\n",
    "from osgeo import ogr\n",
    "from osgeo import osr\n",
    "\n",
    "import fiona\n",
    "import rasterio\n",
    "import geopandas\n",
    "\n",
    "import shapely\n",
    "import shapely.wkt\n",
    "import shapely.geometry\n",
    "\n",
    "import numpy as np\n",
    "import math\n",
    "# from osgeo import gdal_array\n",
    "# from osgeo import gdalnumeric\n",
    "\n",
    "import os\n",
    "import contextlib\n",
    "import logging\n",
    "\n",
    "gdal.UseExceptions()\n",
    "\n",
    "def silent_remove(path):\n",
    "    with contextlib.suppress(FileNotFoundError):\n",
    "        os.remove(path)\n",
    "        \n",
    "DEBUG=False\n",
    "logging.basicConfig(level=logging.DEBUG if DEBUG else logging.ERROR)\n",
    "logging.getLogger('fiona.ogrext').disabled=True # Too noisy\n",
    "fiona.Env(CPL_DEBUG=DEBUG).__enter__()\n",
    "rasterio.Env(CPL_DEBUG=DEBUG).__enter__()"
   ]
  },
  {
   "cell_type": "markdown",
   "metadata": {},
   "source": [
    "# Lecture de l'ENC"
   ]
  },
  {
   "cell_type": "code",
   "execution_count": null,
   "metadata": {},
   "outputs": [],
   "source": [
    "enc_path = 'data/ENC_ROOT/US4MA13M/US4MA13M.000'\n",
    "m_covr_lyr = fiona.open(enc_path, layer='M_COVR', LIST_AS_STRING=True)\n",
    "\n",
    "covr_geo = next(f for f in m_covr_lyr if f['properties']['CATCOV'] == 1)['geometry']\n",
    "repr(covr_geo)[:200]"
   ]
  },
  {
   "cell_type": "markdown",
   "metadata": {},
   "source": [
    "## Écriture de l'emprise dans `data/covr.geojson`"
   ]
  },
  {
   "cell_type": "code",
   "execution_count": null,
   "metadata": {
    "tags": []
   },
   "outputs": [],
   "source": [
    "covr_path = 'data/covr.geojson'\n",
    "with fiona.open(covr_path, mode='w', driver='GeoJSON', schema={'properties':{}, 'geometry': 'Polygon'}) as cover_lyr:\n",
    "    cover_lyr.write({'properties':{}, 'geometry': covr_geo})"
   ]
  },
  {
   "cell_type": "markdown",
   "metadata": {},
   "source": [
    "# Lecture de la Bathy"
   ]
  },
  {
   "cell_type": "markdown",
   "metadata": {},
   "source": [
    "## Réduction à la zone de l'ENC"
   ]
  },
  {
   "cell_type": "code",
   "execution_count": null,
   "metadata": {},
   "outputs": [],
   "source": [
    "bathy_ds = gdal.Warp('data/bathy.tif', 'data/navd_bath_30m',\n",
    "                        options = gdal.WarpOptions(\n",
    "                                            format='GTiff', \n",
    "                                            cutlineDSName=covr_path,\n",
    "                                            cutlineLayer='covr',\n",
    "                                            cropToCutline=True,\n",
    "                                            creationOptions=['COMPRESS=LZW'],\n",
    "                                            dstNodata=np.nan))\n",
    "del bathy_ds # ensure release and flush"
   ]
  },
  {
   "cell_type": "code",
   "execution_count": null,
   "metadata": {},
   "outputs": [],
   "source": [
    "bathy_ds = rasterio.open('data/bathy.tif')"
   ]
  },
  {
   "cell_type": "code",
   "execution_count": null,
   "metadata": {},
   "outputs": [],
   "source": [
    "assert len(bathy_ds.indexes) == 1\n",
    "bathy_np = bathy_ds.read()[0]\n",
    "bathy_ds.nodata"
   ]
  },
  {
   "cell_type": "code",
   "execution_count": null,
   "metadata": {},
   "outputs": [],
   "source": [
    "bathy_np.shape # Northing, Easting"
   ]
  },
  {
   "cell_type": "markdown",
   "metadata": {},
   "source": [
    "# Lecture de l'ENC (suite)"
   ]
  },
  {
   "cell_type": "code",
   "execution_count": null,
   "metadata": {},
   "outputs": [],
   "source": [
    "soundg_lyr = geopandas.read_file(enc_path, layer='SOUNDG', LIST_AS_STRING=True, SPLIT_MULTIPOINT=True, ADD_SOUNDG_DEPTH=True).to_crs(bathy_ds.crs)\n",
    "depare_lyr = geopandas.read_file(enc_path, layer='DEPARE', LIST_AS_STRING=True).to_crs(bathy_ds.crs)"
   ]
  },
  {
   "cell_type": "code",
   "execution_count": null,
   "metadata": {},
   "outputs": [],
   "source": [
    "soundg_lyr"
   ]
  },
  {
   "cell_type": "markdown",
   "metadata": {},
   "source": [
    "# PixelAccessor ?\n",
    "PixelAccessor et tests"
   ]
  },
  {
   "cell_type": "code",
   "execution_count": null,
   "metadata": {},
   "outputs": [],
   "source": [
    "bathy_ds.xy(0,0), bathy_ds.xy(2000,0), bathy_ds.xy(0, 2000)"
   ]
  },
  {
   "cell_type": "code",
   "execution_count": null,
   "metadata": {},
   "outputs": [],
   "source": [
    "bathy_ds.index(328133.590626, 4722220.06), bathy_ds.index(388133.590626, 4722220.06), bathy_ds.index(328133.590626, 4662220.06)"
   ]
  },
  {
   "cell_type": "code",
   "execution_count": null,
   "metadata": {},
   "outputs": [],
   "source": [
    "bathy_np[bathy_ds.index(415283.0,4717460.3)] # -125,9262"
   ]
  },
  {
   "cell_type": "code",
   "execution_count": null,
   "metadata": {},
   "outputs": [],
   "source": [
    "# class Tools: # Far Faster than pyproj\n",
    "#     def __init__(self, vector_lyr, raster_ds):\n",
    "#         geotransform = raster_ds.get_transform()\n",
    "#         assert geotransform[2] == 0\n",
    "#         assert geotransform[4] == 0\n",
    " \n",
    "#         c1 = osr.SpatialReference()\n",
    "#         c2 = osr.SpatialReference()\n",
    "#         osr.SpatialReference.ImportFromWkt(c1, vector_lyr.crs_wkt)\n",
    "#         osr.SpatialReference.ImportFromWkt(c2, raster_ds.crs.to_wkt())\n",
    "#         t12 = osr.CreateCoordinateTransformation(c1,c2)\n",
    "\n",
    "#         def latLonToPixel(lat, lon):\n",
    "#             Xp, Yp, Zp = t12.TransformPoint(lat, lon)\n",
    "#             P = math.floor((Xp - geotransform[0]) / geotransform[1])\n",
    "#             L = math.floor((Yp - geotransform[3]) / geotransform[5])\n",
    "#             return L, P\n",
    "        \n",
    "#         def toPixel(lonlat):\n",
    "#             return latLonToPixel(lonlat[1], lonlat[0])\n",
    "        \n",
    "#         def toPixels(lonlats):\n",
    "#             return [latLonToPixel(lonlat[1], lonlat[0]) for lonlat in lonlats]\n",
    "        \n",
    "#         def reproject(json):\n",
    "#             return [t12.TransformPoint(lonlat[1], lonlat[0])[0:2] for lonlat in lonlats]\n",
    "            \n",
    "        \n",
    "#         # Publish method Javascript style\n",
    "#         self.latLonToPixel = latLonToPixel\n",
    "#         self.toPixel = toPixel\n",
    "#         self.toPixels = toPixels\n",
    "#         self.reproject = reproject\n",
    "    "
   ]
  },
  {
   "cell_type": "code",
   "execution_count": null,
   "metadata": {},
   "outputs": [],
   "source": [
    "# tw84 = Tools(depare_lyr, bathy_ds)"
   ]
  },
  {
   "cell_type": "code",
   "execution_count": null,
   "metadata": {},
   "outputs": [],
   "source": [
    "# tw84.pixelToGeo(0,0), tw84.pixelToGeo(2000,0), tw84.pixelToGeo(0, 2000)"
   ]
  },
  {
   "cell_type": "code",
   "execution_count": null,
   "metadata": {},
   "outputs": [],
   "source": [
    "# tw84.toPixel((-71.09592403816357, 42.63312848595494)), tw84.toPixel((-71.07804409258947, 42.09312188970164)), tw84.toPixel((-70.36441180339453, 42.64417944703203))"
   ]
  },
  {
   "cell_type": "code",
   "execution_count": null,
   "metadata": {},
   "outputs": [],
   "source": [
    "# tw84.toPixels([(-71.09592403816357, 42.63312848595494),(-71.07804409258947, 42.09312188970164), (-70.36441180339453, 42.64417944703203)])"
   ]
  },
  {
   "cell_type": "code",
   "execution_count": null,
   "metadata": {},
   "outputs": [],
   "source": [
    "# bathy_np[tw84.toPixel((-70.551710, 42.36582775))] # -88.0935"
   ]
  },
  {
   "cell_type": "code",
   "execution_count": null,
   "metadata": {},
   "outputs": [],
   "source": []
  },
  {
   "cell_type": "markdown",
   "metadata": {},
   "source": [
    "# Parcours d'isobathe"
   ]
  },
  {
   "cell_type": "code",
   "execution_count": null,
   "metadata": {},
   "outputs": [],
   "source": [
    "depare_lyr"
   ]
  },
  {
   "cell_type": "code",
   "execution_count": null,
   "metadata": {},
   "outputs": [],
   "source": [
    "list(depare_lyr.columns)"
   ]
  },
  {
   "cell_type": "code",
   "execution_count": null,
   "metadata": {},
   "outputs": [],
   "source": [
    "np.sort(depare_lyr.DRVAL1.unique())"
   ]
  },
  {
   "cell_type": "code",
   "execution_count": null,
   "metadata": {},
   "outputs": [],
   "source": [
    "\n",
    "depare_lyr.plot(column='DRVAL1', legend=True)"
   ]
  },
  {
   "cell_type": "code",
   "execution_count": null,
   "metadata": {},
   "outputs": [],
   "source": [
    "dep0 = depare_lyr[depare_lyr.DRVAL1 == 0] # 18.2"
   ]
  },
  {
   "cell_type": "code",
   "execution_count": null,
   "metadata": {},
   "outputs": [],
   "source": [
    "f=dep0.iloc[0]\n",
    "f"
   ]
  },
  {
   "cell_type": "code",
   "execution_count": null,
   "metadata": {
    "tags": []
   },
   "outputs": [],
   "source": [
    "s=f.geometry.boundary"
   ]
  },
  {
   "cell_type": "code",
   "execution_count": null,
   "metadata": {},
   "outputs": [],
   "source": [
    "f.geometry"
   ]
  },
  {
   "cell_type": "code",
   "execution_count": null,
   "metadata": {
    "tags": []
   },
   "outputs": [],
   "source": [
    "shapely.geometry.Polygon([s.interpolate(p) for p in range(0, int(s.length),1)])"
   ]
  },
  {
   "cell_type": "code",
   "execution_count": null,
   "metadata": {},
   "outputs": [],
   "source": [
    "def f(t):\n",
    "    q = bathy_ds.index(t.x,t.y)\n",
    "    return (q[1]*100., -q[0]*100.)\n",
    "\n",
    "shapely.geometry.Polygon([f(s.interpolate(p)) for p in range(0, int(s.length),30)])"
   ]
  },
  {
   "cell_type": "code",
   "execution_count": null,
   "metadata": {},
   "outputs": [],
   "source": [
    "p=shapely.geometry.Point(2,3)"
   ]
  },
  {
   "cell_type": "code",
   "execution_count": null,
   "metadata": {},
   "outputs": [],
   "source": []
  },
  {
   "cell_type": "code",
   "execution_count": null,
   "metadata": {},
   "outputs": [],
   "source": [
    "from matplotlib import pyplot as plt"
   ]
  },
  {
   "cell_type": "code",
   "execution_count": null,
   "metadata": {},
   "outputs": [],
   "source": [
    "plt.imshow(bathy_np[1000:1500,1000:1500])"
   ]
  },
  {
   "cell_type": "code",
   "execution_count": null,
   "metadata": {},
   "outputs": [],
   "source": []
  }
 ],
 "metadata": {
  "kernelspec": {
   "display_name": "Python 3.8.2 64-bit ('python': venv)",
   "language": "python",
   "name": "python38264bitpythonvenv40c5a9fda88f4243a7f0d5207304d97e"
  },
  "language_info": {
   "codemirror_mode": {
    "name": "ipython",
    "version": 3
   },
   "file_extension": ".py",
   "mimetype": "text/x-python",
   "name": "python",
   "nbconvert_exporter": "python",
   "pygments_lexer": "ipython3",
   "version": "3.8.2-final"
  }
 },
 "nbformat": 4,
 "nbformat_minor": 4
}